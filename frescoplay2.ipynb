{
 "cells": [
  {
   "cell_type": "code",
   "execution_count": null,
   "metadata": {},
   "outputs": [],
   "source": [
    "Create a series named heights_A with values 176.2, 158.4, 167.6, 156.2, and 161.4. These values represent\n",
    "heights of 5 students of class A.\n",
    "\n",
    "Label each student as s1, s2, s3, s4, and s5.\n",
    "\n",
    "Create another series named weights_A with values 85.1, 90.2, 76.8, 80.4, and 78.9. These values represent weights of\n",
    "5 students of class A.\n",
    "\n",
    "Label each student as s1, s2, s3, s4, and s5.\n",
    "\n",
    "Create a dataframe named df_A, which contains the height and weight of five students namely s1, s2, s3, s4 and s5.\n",
    "\n",
    "Label the columns as Student_height and Student_weight, respectively.\n",
    "\n",
    "Write the contents of df_A to a CSV file named classA.csv.\n",
    "\n",
    "Note: Use the to_csv method associated with a dataframe.\n",
    "\n",
    "Verify if the file classA.csv exists in the present directory using command ls -l.\n",
    "\n",
    "You can also view the contents of the file using the command cat classA.csv\n",
    "\n",
    "Instructions\n",
    "Op"
   ]
  },
  {
   "cell_type": "code",
   "execution_count": 33,
   "metadata": {},
   "outputs": [],
   "source": [
    "import pandas as pd\n",
    "heights_A = pd.Series([176.2, 158.4, 167.6, 156.2, 161.4], index=['s1', 's2', 's3', 's4', 's5'])\n",
    "weights_A = pd.Series([85.1, 90.2, 76.8, 80.4, 78.9], index=['s1', 's2', 's3', 's4', 's5'])\n",
    "df_A = pd.DataFrame()\n",
    "df_A['Student_height'] = heights_A\n",
    "df_A['Student_weight'] = weights_A\n",
    "height=df_A['Student_height']\n",
    "df_A.to_csv('classA.csv')"
   ]
  },
  {
   "cell_type": "code",
   "execution_count": 2,
   "metadata": {},
   "outputs": [],
   "source": [
    "weights_A = pd.Series([85.1, 90.2, 76.8, 80.4, 78.9], index=['s1', 's2', 's3', 's4', 's5'])"
   ]
  },
  {
   "cell_type": "code",
   "execution_count": 6,
   "metadata": {},
   "outputs": [],
   "source": [
    "df_A = pd.DataFrame()\n",
    "df_A['Student_height'] = heights_A\n",
    "df_A['Student_weight'] = weights_A\n",
    "height=df_A['Student_height']\n"
   ]
  },
  {
   "cell_type": "code",
   "execution_count": 7,
   "metadata": {},
   "outputs": [],
   "source": [
    "df_A.to_csv('classA.csv')"
   ]
  },
  {
   "cell_type": "code",
   "execution_count": 8,
   "metadata": {},
   "outputs": [
    {
     "ename": "SyntaxError",
     "evalue": "invalid syntax (<ipython-input-8-88f18d52efad>, line 1)",
     "output_type": "error",
     "traceback": [
      "\u001b[1;36m  File \u001b[1;32m\"<ipython-input-8-88f18d52efad>\"\u001b[1;36m, line \u001b[1;32m1\u001b[0m\n\u001b[1;33m    Read the contents of the CSV file, classA.csv into a dataframe named df_A2. Note: Use read_csv method of pandas.\u001b[0m\n\u001b[1;37m         ^\u001b[0m\n\u001b[1;31mSyntaxError\u001b[0m\u001b[1;31m:\u001b[0m invalid syntax\n"
     ]
    }
   ],
   "source": [
    "Read the contents of the CSV file, classA.csv into a dataframe named df_A2. Note: Use read_csv method of pandas.\n",
    "\n",
    "Display the dataframe df_A2."
   ]
  },
  {
   "cell_type": "code",
   "execution_count": 9,
   "metadata": {},
   "outputs": [
    {
     "name": "stdout",
     "output_type": "stream",
     "text": [
      "  Unnamed: 0  Student_height  Student_weight\n",
      "0         s1           176.2            85.1\n",
      "1         s2           158.4            90.2\n",
      "2         s3           167.6            76.8\n",
      "3         s4           156.2            80.4\n",
      "4         s5           161.4            78.9\n"
     ]
    }
   ],
   "source": [
    "import pandas as pd\n",
    "df_A2 = pd.read_csv('classA.csv')\n",
    "print(df_A2)"
   ]
  },
  {
   "cell_type": "code",
   "execution_count": null,
   "metadata": {},
   "outputs": [],
   "source": [
    "Read the contents of the CSV file classA.csv into a dataframe named df_A3, such that the first column \n",
    "data values are treated as index to df_A3.\n",
    "Note: Use the index_col argument of read_csv method.\n",
    "\n",
    "Display the dataframe df_A3."
   ]
  },
  {
   "cell_type": "code",
   "execution_count": 10,
   "metadata": {},
   "outputs": [
    {
     "name": "stdout",
     "output_type": "stream",
     "text": [
      "    Student_height  Student_weight\n",
      "s1           176.2            85.1\n",
      "s2           158.4            90.2\n",
      "s3           167.6            76.8\n",
      "s4           156.2            80.4\n",
      "s5           161.4            78.9\n"
     ]
    }
   ],
   "source": [
    "import pandas as pd\n",
    "df_A3 = pd.read_csv('classA.csv',index_col=0)\n",
    "print(df_A3)"
   ]
  },
  {
   "cell_type": "code",
   "execution_count": 35,
   "metadata": {},
   "outputs": [
    {
     "name": "stdout",
     "output_type": "stream",
     "text": [
      "   Student_height  Student_weight\n",
      "0      126.255863       54.002814\n",
      "1      178.567010       79.112165\n",
      "2      198.825895       88.836430\n",
      "3      163.689099       71.970768\n",
      "4      194.533020       86.775849\n"
     ]
    }
   ],
   "source": [
    "import pandas as pd\n",
    "df_B2 = pd.read_csv('classB.csv')\n",
    "print(df_B2)"
   ]
  },
  {
   "cell_type": "code",
   "execution_count": null,
   "metadata": {},
   "outputs": [],
   "source": [
    "Create another Series named heights_B from a 1-D numpy array of 5 elements derived from\n",
    "the normal distribution of mean 170.0 and standard deviation 25.0.\n",
    "Note: Set random seed to 100 before creating heights_B series. Use numpy.\n",
    "\n",
    "Create another Series named weights_B from a 1-D numpy array of 5 elements derived from the\n",
    "normal distribution of mean 75.0 and standard deviation 12.0.\n",
    "Note: Set random seed to 100 again before creating weights_B series. Use numpy.\n",
    "\n",
    "Label both Series elements with s1, s2, s3, s4 and s5.\n",
    "\n",
    "Create a dataframe df_B containing the height and weight of students s1, s2, s3, s4 and s5 belonging to class B.\n",
    "\n",
    "Label the columns as Student_height and Student_weight respectively.\n",
    "\n",
    "Write the contents of df_B without the index to a CSV file named classB.csv. Note: Use the index argument of to_csv method.\n",
    "\n",
    "Verify if the file classB.csv exists in the present directory using the command ls -1.\n",
    "\n",
    "Display the contents of classB.csv using the command cat classB.csv."
   ]
  },
  {
   "cell_type": "code",
   "execution_count": 13,
   "metadata": {},
   "outputs": [],
   "source": []
  },
  {
   "cell_type": "code",
   "execution_count": 23,
   "metadata": {},
   "outputs": [],
   "source": [
    "import numpy as np\n",
    "import pandas as pd\n",
    "np.random.seed(100)\n",
    "heights_B=pd.Series(np.random.normal(170,25,5), index=['s1', 's2', 's3', 's4', 's5'])\n",
    "np.random.seed(100)\n",
    "weights_B=pd.Series(np.random.normal(75,12,5),index=['s1', 's2', 's3', 's4', 's5'])\n",
    "df_B=pd.DataFrame()\n",
    "df_B['Student_height'] = heights_B\n",
    "df_B['Student_weight'] = weights_B\n",
    "df_B.to_csv('classB.csv',index=False)"
   ]
  },
  {
   "cell_type": "code",
   "execution_count": 24,
   "metadata": {},
   "outputs": [],
   "source": [
    "Read data from the classB.csv file into a dataframe df_B3, \n",
    "such that the argument header of read_csv is set to None Note: When the header is set to None, data is read assuming there is no header in the input csv file.\n",
    "Display the dataframe df_B3.\n",
    "    "
   ]
  },
  {
   "cell_type": "code",
   "execution_count": 31,
   "metadata": {},
   "outputs": [
    {
     "name": "stdout",
     "output_type": "stream",
     "text": [
      "                    0                  1\n",
      "0      Student_height     Student_weight\n",
      "1  126.25586317363256  54.00281432334363\n",
      "2  178.56701008318754  79.11216483993003\n",
      "3   198.8258950640911  88.83642963076373\n",
      "4  163.68909908696526  71.97076756174332\n",
      "5  194.53301967378079  86.77584944341478\n"
     ]
    }
   ],
   "source": [
    "import pandas as pd\n",
    "df_B3 = pd.read_csv('classB.csv',header=None)\n",
    "print(df_B3)"
   ]
  },
  {
   "cell_type": "code",
   "execution_count": 27,
   "metadata": {},
   "outputs": [],
   "source": [
    "Read data from the classB.csv file into a dataframe df_B4, such that \n",
    "the argument header of read_csv is set to None, and argument skiprows \n",
    "is set to 2. Note: *skiprows skips reading the first n number of rows from the input csv file.*\n",
    "Display the dataframe df_B4."
   ]
  },
  {
   "cell_type": "code",
   "execution_count": 32,
   "metadata": {},
   "outputs": [
    {
     "name": "stdout",
     "output_type": "stream",
     "text": [
      "            0          1\n",
      "0  178.567010  79.112165\n",
      "1  198.825895  88.836430\n",
      "2  163.689099  71.970768\n",
      "3  194.533020  86.775849\n"
     ]
    }
   ],
   "source": [
    "import pandas as pd\n",
    "df_B4 = pd.read_csv('classB.csv',header=None,skiprows=2)\n",
    "print(df_B4)"
   ]
  },
  {
   "cell_type": "code",
   "execution_count": null,
   "metadata": {},
   "outputs": [],
   "source": []
  }
 ],
 "metadata": {
  "kernelspec": {
   "display_name": "Python 3",
   "language": "python",
   "name": "python3"
  },
  "language_info": {
   "codemirror_mode": {
    "name": "ipython",
    "version": 3
   },
   "file_extension": ".py",
   "mimetype": "text/x-python",
   "name": "python",
   "nbconvert_exporter": "python",
   "pygments_lexer": "ipython3",
   "version": "3.8.3"
  }
 },
 "nbformat": 4,
 "nbformat_minor": 4
}
