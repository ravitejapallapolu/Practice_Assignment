{
 "cells": [
  {
   "cell_type": "code",
   "execution_count": 34,
   "metadata": {},
   "outputs": [
    {
     "name": "stdout",
     "output_type": "stream",
     "text": [
      "('data', '123')\n",
      "('science', '234')\n",
      "('AI', '235')\n"
     ]
    }
   ],
   "source": [
    "dict1 = {'data': '123',\n",
    "'science':'234',\n",
    "'AI': '235'}\n",
    "\n",
    "for i in dict1.items():\n",
    "    print(i)"
   ]
  },
  {
   "cell_type": "markdown",
   "metadata": {},
   "source": [
    "# write a program to sort a dictionary by key."
   ]
  },
  {
   "cell_type": "code",
   "execution_count": 12,
   "metadata": {},
   "outputs": [
    {
     "name": "stdout",
     "output_type": "stream",
     "text": [
      "AI 235\n",
      "data 123\n",
      "science 234\n"
     ]
    }
   ],
   "source": [
    "for i in sorted(dict1):\n",
    "    print(i, dict1[i])"
   ]
  },
  {
   "cell_type": "code",
   "execution_count": 16,
   "metadata": {},
   "outputs": [
    {
     "name": "stdout",
     "output_type": "stream",
     "text": [
      "AI: 235\n",
      "data: 123\n",
      "science: 234\n"
     ]
    }
   ],
   "source": [
    "for key in sorted(dict1):\n",
    "    print(\"%s: %d\" % (key, int(dict1[key])))"
   ]
  },
  {
   "cell_type": "markdown",
   "metadata": {},
   "source": [
    "# Write a Python program to get a dictionary from an object's fields."
   ]
  },
  {
   "cell_type": "code",
   "execution_count": 30,
   "metadata": {},
   "outputs": [
    {
     "name": "stdout",
     "output_type": "stream",
     "text": [
      "{'x': 'a', 'y': 'b'}\n"
     ]
    }
   ],
   "source": [
    "class di():\n",
    "    def __init__(self):\n",
    "        self.x='a'\n",
    "        self.y='b'\n",
    "    def do(self):\n",
    "        pass\n",
    "print(di().__dict__)"
   ]
  },
  {
   "cell_type": "markdown",
   "metadata": {},
   "source": [
    "# write a program to remove duplicates from Dictionary."
   ]
  },
  {
   "cell_type": "code",
   "execution_count": 36,
   "metadata": {},
   "outputs": [],
   "source": [
    "student_data = {'id1':\n",
    "{'name': ['Sara'],\n",
    "'class': ['V'],\n",
    "'subject_integration': ['english, math, science']\n",
    "},\n",
    "'id2':\n",
    "{'name': ['David'],\n",
    "'class': ['V'],\n",
    "'subject_integration': ['english, math, science']\n",
    "},\n",
    "'id3':\n",
    "{'name': ['Sara'],\n",
    "'class': ['V'],\n",
    "'subject_integration': ['english, math, science']\n",
    "},\n",
    "'id4':\n",
    "{'name': ['Surya'],\n",
    "'class': ['V'],\n",
    "'subject_integration': ['english, math, science']\n",
    "},\n",
    "}\n",
    "result = {}"
   ]
  },
  {
   "cell_type": "code",
   "execution_count": 46,
   "metadata": {},
   "outputs": [
    {
     "name": "stdout",
     "output_type": "stream",
     "text": [
      "{'id1': {'name': ['Sara'], 'class': ['V'], 'subject_integration': ['english, math, science']}, 'id2': {'name': ['David'], 'class': ['V'], 'subject_integration': ['english, math, science']}, 'id4': {'name': ['Surya'], 'class': ['V'], 'subject_integration': ['english, math, science']}}\n"
     ]
    }
   ],
   "source": [
    "a = {i:j for i,j in student_data.items() if j not in student_data.values()}\n",
    "a\n",
    "b={}\n",
    "for i,j in student_data.items():\n",
    "    if j not in result.values():\n",
    "        result[i]=j\n",
    "print(result)\n",
    "    "
   ]
  },
  {
   "cell_type": "markdown",
   "metadata": {},
   "source": [
    "# write a program to combine two dictionary adding values for common keys"
   ]
  },
  {
   "cell_type": "code",
   "execution_count": 51,
   "metadata": {},
   "outputs": [
    {
     "name": "stdout",
     "output_type": "stream",
     "text": [
      "{'a': 1000, 'b': 3200, 'c': 1300}\n",
      "Counter({'b': 3400, 'a': 1300, 'c': 1300, 'd': 400})\n"
     ]
    }
   ],
   "source": [
    "d1 = {'a': 1000, 'b': 3200, 'c':1300}\n",
    "d2 = {'a': 300, 'b': 200, 'd':400}\n",
    "result ={}\n",
    "for i,j in d1.items():\n",
    "    for l,m in d2.items():\n",
    "        if l==i:\n",
    "            result[i]=m+j\n",
    "        else:\n",
    "            result[i]=j\n",
    "\n",
    "print(result)\n",
    "from collections import Counter \n",
    "print(Counter(d1)+Counter(d2))"
   ]
  },
  {
   "cell_type": "markdown",
   "metadata": {},
   "source": [
    "# write a program to print all unique values from a dictionary in a list"
   ]
  },
  {
   "cell_type": "code",
   "execution_count": 53,
   "metadata": {},
   "outputs": [],
   "source": [
    "data = [{\"V\":\"S001\"}, {\"V\": \"S002\"}, {\"VI\": \"S001\"}, {\"VI\": \"S005\"}, {\"VII\":\"S005\"}, {\n",
    "\"V\":\"S009\"},{\"VIII\":\"S007\"}]"
   ]
  },
  {
   "cell_type": "code",
   "execution_count": 70,
   "metadata": {},
   "outputs": [
    {
     "data": {
      "text/plain": [
       "{'S001', 'S002', 'S005', 'S007', 'S009'}"
      ]
     },
     "execution_count": 70,
     "metadata": {},
     "output_type": "execute_result"
    }
   ],
   "source": [
    "s =[]\n",
    "for i in data:\n",
    "    s.append(i[tuple(i)[0]])\n",
    "set(s)"
   ]
  },
  {
   "cell_type": "code",
   "execution_count": null,
   "metadata": {},
   "outputs": [],
   "source": []
  }
 ],
 "metadata": {
  "kernelspec": {
   "display_name": "Python 3",
   "language": "python",
   "name": "python3"
  },
  "language_info": {
   "codemirror_mode": {
    "name": "ipython",
    "version": 3
   },
   "file_extension": ".py",
   "mimetype": "text/x-python",
   "name": "python",
   "nbconvert_exporter": "python",
   "pygments_lexer": "ipython3",
   "version": "3.8.3"
  }
 },
 "nbformat": 4,
 "nbformat_minor": 4
}
