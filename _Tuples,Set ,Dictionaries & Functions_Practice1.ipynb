{
 "cells": [
  {
   "cell_type": "markdown",
   "metadata": {},
   "source": [
    "# Write a Python program to check if all dictionaries in a list are empty or not."
   ]
  },
  {
   "cell_type": "code",
   "execution_count": 24,
   "metadata": {},
   "outputs": [
    {
     "name": "stdout",
     "output_type": "stream",
     "text": [
      "all dictionaries in a list are not empty\n",
      "True\n"
     ]
    }
   ],
   "source": [
    "li = [{},{},{'a':[1,2,3]}]\n",
    "\n",
    "li2 =[{},{}]\n",
    "count =0\n",
    "for i in li:\n",
    "    if i == {}:\n",
    "        count +=1\n",
    "if(count == len(li)):\n",
    "    print('all dictionaries in a list are empty')\n",
    "else :\n",
    "    print('all dictionaries in a list are not empty')\n",
    "\n",
    "#print(all(not i for i in li2))"
   ]
  },
  {
   "cell_type": "markdown",
   "metadata": {},
   "source": [
    "# Write a Python program to remove duplicates from a list of lists."
   ]
  },
  {
   "cell_type": "code",
   "execution_count": 25,
   "metadata": {},
   "outputs": [
    {
     "data": {
      "text/plain": [
       "[[1, 2, 3], [2, 3, 4], [3, 4, 5]]"
      ]
     },
     "execution_count": 25,
     "metadata": {},
     "output_type": "execute_result"
    }
   ],
   "source": [
    "li = [[1,2,3],[2,3,4],[3,4,5]]\n",
    "li"
   ]
  },
  {
   "cell_type": "code",
   "execution_count": 38,
   "metadata": {},
   "outputs": [
    {
     "name": "stdout",
     "output_type": "stream",
     "text": [
      "1\n",
      "2\n",
      "3\n",
      "4\n",
      "5\n",
      "[[1, 2, 3], [4], [5]]\n"
     ]
    }
   ],
   "source": [
    "l = []\n",
    "new = []\n",
    "for i in li:\n",
    "    n = []\n",
    "    \n",
    "    for j in i:\n",
    "        #print(j)\n",
    "       \n",
    "        if j not in l:\n",
    "            print(j)\n",
    "            n.append(j)\n",
    "        l.append(j)\n",
    "    new.append(n)\n",
    "print(new)"
   ]
  },
  {
   "cell_type": "code",
   "execution_count": 45,
   "metadata": {},
   "outputs": [
    {
     "name": "stdout",
     "output_type": "stream",
     "text": [
      "Original List [[110, 120], [240], [330, 456, 425], [310, 220], [133], [240]]\n",
      "New List [[110, 120], [133], [240], [310, 220], [330, 456, 425]]\n"
     ]
    }
   ],
   "source": [
    "import itertools\n",
    "\n",
    "num = [[110, 120], [240], [330, 456, 425], [310, 220], [133], [240]]\n",
    "print(\"Original List\", num)\n",
    "num.sort()\n",
    "new_num = list(num for num,_ in itertools.groupby(num))\n",
    "print(\"New List\", new_num)"
   ]
  },
  {
   "cell_type": "markdown",
   "metadata": {},
   "source": [
    "# Write a Python program to extend a list without append."
   ]
  },
  {
   "cell_type": "code",
   "execution_count": 46,
   "metadata": {},
   "outputs": [
    {
     "data": {
      "text/plain": [
       "[103, 320, 430, 403, 503, 603]"
      ]
     },
     "execution_count": 46,
     "metadata": {},
     "output_type": "execute_result"
    }
   ],
   "source": [
    "x = [103, 320, 430]\n",
    "y = [403, 503, 603]\n",
    "l= x+y\n",
    "l"
   ]
  },
  {
   "cell_type": "code",
   "execution_count": 51,
   "metadata": {},
   "outputs": [
    {
     "data": {
      "text/plain": [
       "[403, 503, 603, 403, 503, 603, 603, 403, 503, 603]"
      ]
     },
     "execution_count": 51,
     "metadata": {},
     "output_type": "execute_result"
    }
   ],
   "source": [
    "x[:0]=y\n",
    "x"
   ]
  },
  {
   "cell_type": "markdown",
   "metadata": {},
   "source": [
    "# Write a Python program to find the list in a list of lists whose sum of elements is the highest"
   ]
  },
  {
   "cell_type": "code",
   "execution_count": 58,
   "metadata": {},
   "outputs": [
    {
     "name": "stdout",
     "output_type": "stream",
     "text": [
      "6\n",
      "15\n",
      "33\n",
      "24\n",
      "[10, 11, 12]\n"
     ]
    }
   ],
   "source": [
    "li = [[103, 320, 430],[330, 456, 425], [310, 220], [133], [240]]\n",
    "num = [[1,2,3], [4,5,6], [10,11,12], [7,8,9]]\n",
    "maxsum = 0\n",
    "l\n",
    "for i in num:\n",
    "    print(sum(i))\n",
    "    if maxsum < sum(i):\n",
    "        maxsum = sum(i)\n",
    "        l=i\n",
    "print(l)\n",
    "        \n",
    "    "
   ]
  },
  {
   "cell_type": "code",
   "execution_count": 59,
   "metadata": {},
   "outputs": [
    {
     "data": {
      "text/plain": [
       "[10, 11, 12]"
      ]
     },
     "execution_count": 59,
     "metadata": {},
     "output_type": "execute_result"
    }
   ],
   "source": [
    "num = [[1,2,3], [4,5,6], [10,11,12], [7,8,9]]\n",
    "max(num,key=sum)"
   ]
  },
  {
   "cell_type": "markdown",
   "metadata": {},
   "source": [
    "# Write a Python program to access dictionary key’s element by index."
   ]
  },
  {
   "cell_type": "code",
   "execution_count": 81,
   "metadata": {},
   "outputs": [
    {
     "ename": "TypeError",
     "evalue": "'builtin_function_or_method' object is not iterable",
     "output_type": "error",
     "traceback": [
      "\u001b[1;31m---------------------------------------------------------------------------\u001b[0m",
      "\u001b[1;31mTypeError\u001b[0m                                 Traceback (most recent call last)",
      "\u001b[1;32m<ipython-input-81-239461586def>\u001b[0m in \u001b[0;36m<module>\u001b[1;34m\u001b[0m\n\u001b[0;32m      1\u001b[0m \u001b[0mai\u001b[0m\u001b[1;33m=\u001b[0m \u001b[1;33m{\u001b[0m\u001b[1;34m'a'\u001b[0m\u001b[1;33m:\u001b[0m\u001b[1;36m1\u001b[0m\u001b[1;33m,\u001b[0m\u001b[1;34m'b'\u001b[0m\u001b[1;33m:\u001b[0m\u001b[1;36m2\u001b[0m\u001b[1;33m,\u001b[0m\u001b[1;34m'c'\u001b[0m\u001b[1;33m:\u001b[0m\u001b[1;36m3\u001b[0m\u001b[1;33m}\u001b[0m\u001b[1;33m\u001b[0m\u001b[1;33m\u001b[0m\u001b[0m\n\u001b[0;32m      2\u001b[0m \u001b[1;33m\u001b[0m\u001b[0m\n\u001b[1;32m----> 3\u001b[1;33m \u001b[0mlist\u001b[0m\u001b[1;33m(\u001b[0m\u001b[0mai\u001b[0m\u001b[1;33m.\u001b[0m\u001b[0mitems\u001b[0m\u001b[1;33m)\u001b[0m\u001b[1;33m\u001b[0m\u001b[1;33m\u001b[0m\u001b[0m\n\u001b[0m",
      "\u001b[1;31mTypeError\u001b[0m: 'builtin_function_or_method' object is not iterable"
     ]
    }
   ],
   "source": [
    "ai= {'a':1,'b':2,'c':3}\n",
    "\n",
    "list(ai.items)"
   ]
  },
  {
   "cell_type": "markdown",
   "metadata": {},
   "source": [
    "# Write a Python program to iterate over two lists simultaneously."
   ]
  },
  {
   "cell_type": "code",
   "execution_count": 89,
   "metadata": {},
   "outputs": [
    {
     "name": "stdout",
     "output_type": "stream",
     "text": [
      "103 403\n",
      "320 503\n",
      "430 603\n"
     ]
    }
   ],
   "source": [
    "x = [103, 320, 430]\n",
    "y = [403, 503, 603]\n",
    "for i,j in zip(x,y):\n",
    "    print(i,j)"
   ]
  },
  {
   "cell_type": "markdown",
   "metadata": {},
   "source": [
    "# write a program to inser a string at the begining of every elements in a list"
   ]
  },
  {
   "cell_type": "code",
   "execution_count": 96,
   "metadata": {},
   "outputs": [
    {
     "data": {
      "text/plain": [
       "['Customer100',\n",
       " 'Customer123',\n",
       " 'Customer345',\n",
       " 'Customer567',\n",
       " 'Customer789',\n",
       " 'Customer890',\n",
       " 'Customer98',\n",
       " 'Customer876',\n",
       " 'Customer543',\n",
       " 'Customer678']"
      ]
     },
     "execution_count": 96,
     "metadata": {},
     "output_type": "execute_result"
    }
   ],
   "source": [
    "a = [100,123,345,567,789,890,98,876,543,678]\n",
    "li = ['Customer'+str(i) for i in a]\n",
    "li"
   ]
  },
  {
   "cell_type": "markdown",
   "metadata": {},
   "source": [
    "# write a program to take two lists and print if they have at least one common member"
   ]
  },
  {
   "cell_type": "code",
   "execution_count": 108,
   "metadata": {},
   "outputs": [
    {
     "data": {
      "text/plain": [
       "True"
      ]
     },
     "execution_count": 108,
     "metadata": {},
     "output_type": "execute_result"
    }
   ],
   "source": [
    "a=[121,222,332,432,125]\n",
    "b = [125,236,457,678,779]\n",
    "#print(common_data([121,222,332,432,125], [125,236,457,678,779]))\n",
    "def func(a,b) :\n",
    "    \n",
    "    for i in a :\n",
    "        if i in b :\n",
    "            return True\n",
    "        else :\n",
    "           continue \n",
    "    return False\n",
    "           \n",
    "func(a,b)"
   ]
  },
  {
   "cell_type": "markdown",
   "metadata": {},
   "source": [
    "# compute all permutations in a list"
   ]
  },
  {
   "cell_type": "code",
   "execution_count": 113,
   "metadata": {},
   "outputs": [
    {
     "data": {
      "text/plain": [
       "[(1, 22), (1, 3), (22, 1), (22, 3), (3, 1), (3, 22)]"
      ]
     },
     "execution_count": 113,
     "metadata": {},
     "output_type": "execute_result"
    }
   ],
   "source": [
    "import itertools\n",
    "list(itertools.permutations([1,22,3],2))"
   ]
  },
  {
   "cell_type": "code",
   "execution_count": null,
   "metadata": {},
   "outputs": [],
   "source": []
  }
 ],
 "metadata": {
  "kernelspec": {
   "display_name": "Python 3",
   "language": "python",
   "name": "python3"
  },
  "language_info": {
   "codemirror_mode": {
    "name": "ipython",
    "version": 3
   },
   "file_extension": ".py",
   "mimetype": "text/x-python",
   "name": "python",
   "nbconvert_exporter": "python",
   "pygments_lexer": "ipython3",
   "version": "3.8.3"
  }
 },
 "nbformat": 4,
 "nbformat_minor": 4
}
