{
 "cells": [
  {
   "cell_type": "code",
   "execution_count": null,
   "metadata": {},
   "outputs": [],
   "source": [
    "Create an index named dates representing a range of dates starting from 1-Sep-2017 to 15-Sep-2017.\n",
    "Note: Use the date_range method of pandas.\n",
    "\n",
    "Print the 3rd element of the created DateTimeIndex."
   ]
  },
  {
   "cell_type": "code",
   "execution_count": 1,
   "metadata": {},
   "outputs": [],
   "source": [
    "import pandas as pd"
   ]
  },
  {
   "cell_type": "code",
   "execution_count": 2,
   "metadata": {},
   "outputs": [],
   "source": [
    "DateTimeIndex = pd.date_range('1-Sep-2017','15-Sep-2017')"
   ]
  },
  {
   "cell_type": "code",
   "execution_count": 5,
   "metadata": {},
   "outputs": [
    {
     "data": {
      "text/plain": [
       "Timestamp('2017-09-03 00:00:00', freq='D')"
      ]
     },
     "execution_count": 5,
     "metadata": {},
     "output_type": "execute_result"
    }
   ],
   "source": [
    "DateTimeIndex[2]"
   ]
  },
  {
   "cell_type": "code",
   "execution_count": null,
   "metadata": {},
   "outputs": [],
   "source": [
    "Convert the following date strings into datetime objects: datelist = ['14-Sep-2017', '9-Sep-2017'].\n",
    "Note: Use the to_datetime method of pandas.\n",
    "\n",
    "Capture the result in the variable 'dates_to_be_searched' and print it."
   ]
  },
  {
   "cell_type": "code",
   "execution_count": 8,
   "metadata": {},
   "outputs": [
    {
     "name": "stdout",
     "output_type": "stream",
     "text": [
      "DatetimeIndex(['2017-09-14', '2017-09-09'], dtype='datetime64[ns]', freq=None)\n"
     ]
    }
   ],
   "source": [
    "datelist = ['14-Sep-2017', '9-Sep-2017']\n",
    "dates_to_be_searched = pd.to_datetime(datelist)\n",
    "print(dates_to_be_searched)"
   ]
  },
  {
   "cell_type": "code",
   "execution_count": 7,
   "metadata": {},
   "outputs": [
    {
     "data": {
      "text/plain": [
       "DatetimeIndex(['2017-09-14', '2017-09-09'], dtype='datetime64[ns]', freq=None)"
      ]
     },
     "execution_count": 7,
     "metadata": {},
     "output_type": "execute_result"
    }
   ],
   "source": [
    "pd.to_datetime(datelist)"
   ]
  },
  {
   "cell_type": "code",
   "execution_count": null,
   "metadata": {},
   "outputs": [],
   "source": [
    "Check if the elements of 'dates_to_be_searched' are present in DateTimeIndex, 'dates', created above.\n",
    "Note: Use the isin method associated with DatetimeIndex objects.\n",
    "\n",
    "Print the output."
   ]
  },
  {
   "cell_type": "code",
   "execution_count": 15,
   "metadata": {},
   "outputs": [
    {
     "name": "stdout",
     "output_type": "stream",
     "text": [
      "True\n",
      "True\n"
     ]
    }
   ],
   "source": [
    "for i in dates_to_be_searched:\n",
    "    print(i in DateTimeIndex)"
   ]
  },
  {
   "cell_type": "code",
   "execution_count": 18,
   "metadata": {},
   "outputs": [
    {
     "name": "stdout",
     "output_type": "stream",
     "text": [
      "DatetimeIndex(['2017-09-14', '2017-09-09'], dtype='datetime64[ns]', freq=None)\n"
     ]
    },
    {
     "data": {
      "text/plain": [
       "array([ True,  True])"
      ]
     },
     "execution_count": 18,
     "metadata": {},
     "output_type": "execute_result"
    }
   ],
   "source": [
    "import pandas as pd\n",
    "DateTimeIndex = pd.date_range('1-Sep-2017','15-Sep-2017')\n",
    "datelist = ['14-Sep-2017', '9-Sep-2017']\n",
    "dates_to_be_searched = pd.to_datetime(datelist)\n",
    "#print(dates_to_be_searched)\n",
    "dates_to_be_searched.isin(DateTimeIndex)"
   ]
  },
  {
   "cell_type": "code",
   "execution_count": null,
   "metadata": {},
   "outputs": [],
   "source": [
    "Create a multi index named mi_index of two levels, represented in the following array \n",
    "arraylist: arraylist = [['classA']*5 + ['classB']*5, ['s1', 's2', 's3','s4', 's5']*2] .\n",
    "Note: Use MultiIndex of pandas.\n",
    "\n",
    "Print levels of mi_index."
   ]
  },
  {
   "cell_type": "code",
   "execution_count": 28,
   "metadata": {},
   "outputs": [],
   "source": [
    "#mi_index\n",
    "arraylist = [['classA']*5 + ['classB']*5, ['s1', 's2', 's3','s4', 's5']*2]"
   ]
  },
  {
   "cell_type": "code",
   "execution_count": 33,
   "metadata": {},
   "outputs": [
    {
     "name": "stdout",
     "output_type": "stream",
     "text": [
      "MultiIndex([('classA', 's1'),\n",
      "            ('classA', 's2'),\n",
      "            ('classA', 's3'),\n",
      "            ('classA', 's4'),\n",
      "            ('classA', 's5'),\n",
      "            ('classB', 's1'),\n",
      "            ('classB', 's2'),\n",
      "            ('classB', 's3'),\n",
      "            ('classB', 's4'),\n",
      "            ('classB', 's5')],\n",
      "           )\n"
     ]
    }
   ],
   "source": [
    "arraylist = [['classA']*5 + ['classB']*5, ['s1', 's2', 's3','s4', 's5']*2]\n",
    "mi_index= pd.MultiIndex.from_arrays(arraylist)\n",
    "print(mi_index)"
   ]
  },
  {
   "cell_type": "code",
   "execution_count": 34,
   "metadata": {},
   "outputs": [
    {
     "data": {
      "text/plain": [
       "1"
      ]
     },
     "execution_count": 34,
     "metadata": {},
     "output_type": "execute_result"
    }
   ],
   "source": [
    "import pandas as pd\n",
    "\n",
    "d = pd.date_range('11-Sep-2017', '17-Sep-2017', freq='2D')\n",
    "len(d[d.isin(pd.to_datetime(['12-09-2017', '15-09-2017']))])"
   ]
  },
  {
   "cell_type": "code",
   "execution_count": 35,
   "metadata": {},
   "outputs": [
    {
     "data": {
      "text/plain": [
       "4"
      ]
     },
     "execution_count": 35,
     "metadata": {},
     "output_type": "execute_result"
    }
   ],
   "source": [
    "len(pd.date_range('11-Sep-2017', '17-Sep-2017', freq='2D'))"
   ]
  },
  {
   "cell_type": "code",
   "execution_count": 36,
   "metadata": {},
   "outputs": [],
   "source": [
    "d = pd.date_range('11-Sep-2017', '17-Sep-2017', freq='2D')"
   ]
  },
  {
   "cell_type": "code",
   "execution_count": 37,
   "metadata": {},
   "outputs": [
    {
     "data": {
      "text/plain": [
       "DatetimeIndex(['2017-09-12 02:00:00', '2017-09-14 02:00:00',\n",
       "               '2017-09-16 02:00:00', '2017-09-18 02:00:00'],\n",
       "              dtype='datetime64[ns]', freq='2D')"
      ]
     },
     "execution_count": 37,
     "metadata": {},
     "output_type": "execute_result"
    }
   ],
   "source": [
    "d + pd.Timedelta('1 days 2 hours')"
   ]
  },
  {
   "cell_type": "code",
   "execution_count": 39,
   "metadata": {},
   "outputs": [
    {
     "data": {
      "text/plain": [
       "4"
      ]
     },
     "execution_count": 39,
     "metadata": {},
     "output_type": "execute_result"
    }
   ],
   "source": [
    "len(pd.bdate_range('11-Sep-2017', '17-Sep-2017', freq='2D'))"
   ]
  },
  {
   "cell_type": "code",
   "execution_count": null,
   "metadata": {},
   "outputs": [],
   "source": [
    "Create a series named heights_A with values 176.2, 158.4, 167.6, 156.2, and 161.4. \n",
    "These values represent heights of 5 students of class A.\n",
    "\n",
    "Label each student as s1, s2, s3, s4, and s5.\n",
    "\n",
    "Create another series named weights_A with values 85.1, 90.2, 76.8, 80.4, and 78.9. These values represent weights of 5 students of class A.\n",
    "\n",
    "Label each student as s1, s2, s3, s4, and s5.\n",
    "\n",
    "Create a dataframe named df_A, which contains the height and weight of five students namely s1, s2, s3, s4 and s5.\n",
    "\n",
    "Label the columns as Student_height and Student_weight, respectively.\n",
    "\n",
    "Set height and weight values of student s3 to NaN .\n",
    "\n",
    "Note: Use .loc to select the s3 record and set the values to np.nan.\n",
    "\n",
    "Set the weight of s5 to NaN.\n",
    "\n",
    "Drop the rows having null values in any of the columns, and assign the result to df_A2. Note: Use the dropna method.\n",
    "\n",
    "Display the dataframe df_A2.\n",
    "\n",
    "Instructions"
   ]
  },
  {
   "cell_type": "code",
   "execution_count": 57,
   "metadata": {},
   "outputs": [
    {
     "name": "stdout",
     "output_type": "stream",
     "text": [
      "    Student_height  Student_weight\n",
      "s1           176.2            85.1\n",
      "s2           158.4            90.2\n",
      "s4           156.2            80.4\n"
     ]
    }
   ],
   "source": [
    "import pandas as pd\n",
    "heights_A = pd.Series([176.2, 158.4, 167.6, 156.2, 161.4], index=['s1', 's2', 's3', 's4', 's5'])\n",
    "weights_A = pd.Series([85.1, 90.2, 76.8, 80.4, 78.9], index=['s1', 's2', 's3', 's4', 's5'])\n",
    "df_A = pd.DataFrame()\n",
    "df_A['Student_height'] = heights_A\n",
    "df_A['Student_weight'] = weights_A\n",
    "import numpy as np\n",
    "df_A.loc['s3']=np.nan\n",
    "df_A['Student_weight'].loc['s5']=np.nan\n",
    "df_A2=df_A.dropna(axis=0)\n",
    "print(df_A2)"
   ]
  },
  {
   "cell_type": "code",
   "execution_count": 56,
   "metadata": {},
   "outputs": [
    {
     "data": {
      "text/html": [
       "<div>\n",
       "<style scoped>\n",
       "    .dataframe tbody tr th:only-of-type {\n",
       "        vertical-align: middle;\n",
       "    }\n",
       "\n",
       "    .dataframe tbody tr th {\n",
       "        vertical-align: top;\n",
       "    }\n",
       "\n",
       "    .dataframe thead th {\n",
       "        text-align: right;\n",
       "    }\n",
       "</style>\n",
       "<table border=\"1\" class=\"dataframe\">\n",
       "  <thead>\n",
       "    <tr style=\"text-align: right;\">\n",
       "      <th></th>\n",
       "      <th>Student_height</th>\n",
       "      <th>Student_weight</th>\n",
       "    </tr>\n",
       "  </thead>\n",
       "  <tbody>\n",
       "    <tr>\n",
       "      <th>s1</th>\n",
       "      <td>176.2</td>\n",
       "      <td>85.1</td>\n",
       "    </tr>\n",
       "    <tr>\n",
       "      <th>s2</th>\n",
       "      <td>158.4</td>\n",
       "      <td>90.2</td>\n",
       "    </tr>\n",
       "    <tr>\n",
       "      <th>s4</th>\n",
       "      <td>156.2</td>\n",
       "      <td>80.4</td>\n",
       "    </tr>\n",
       "  </tbody>\n",
       "</table>\n",
       "</div>"
      ],
      "text/plain": [
       "    Student_height  Student_weight\n",
       "s1           176.2            85.1\n",
       "s2           158.4            90.2\n",
       "s4           156.2            80.4"
      ]
     },
     "execution_count": 56,
     "metadata": {},
     "output_type": "execute_result"
    }
   ],
   "source": [
    "pd.rem"
   ]
  },
  {
   "cell_type": "code",
   "execution_count": 58,
   "metadata": {},
   "outputs": [
    {
     "name": "stdout",
     "output_type": "stream",
     "text": [
      "        temp        rain location\n",
      "0  23.956463  142.919725        A\n",
      "1  36.959387  120.045869        A\n"
     ]
    }
   ],
   "source": [
    "df = pd.DataFrame({'temp':pd.Series(28 + 10*np.random.randn(10)),\n",
    "                   'rain':pd.Series(100 + 50*np.random.randn(10)),\n",
    "                   'location':list('AAAAABBBBB')\n",
    "})\n",
    "print(df.head(2))"
   ]
  },
  {
   "cell_type": "code",
   "execution_count": 61,
   "metadata": {},
   "outputs": [
    {
     "name": "stdout",
     "output_type": "stream",
     "text": [
      "        temp        rain   location\n",
      "0  23.956463  142.919725  Hyderabad\n",
      "1  36.959387  120.045869  Hyderabad\n"
     ]
    }
   ],
   "source": [
    "replacements = {\n",
    "'location': {'A':'Hyderabad', 'B':'Mumbai'}\n",
    "}\n",
    "df = df.replace(replacements, regex=True)\n",
    "print(df.head(2))"
   ]
  },
  {
   "cell_type": "code",
   "execution_count": 65,
   "metadata": {},
   "outputs": [
    {
     "data": {
      "text/html": [
       "<div>\n",
       "<style scoped>\n",
       "    .dataframe tbody tr th:only-of-type {\n",
       "        vertical-align: middle;\n",
       "    }\n",
       "\n",
       "    .dataframe tbody tr th {\n",
       "        vertical-align: top;\n",
       "    }\n",
       "\n",
       "    .dataframe thead th {\n",
       "        text-align: right;\n",
       "    }\n",
       "</style>\n",
       "<table border=\"1\" class=\"dataframe\">\n",
       "  <thead>\n",
       "    <tr style=\"text-align: right;\">\n",
       "      <th></th>\n",
       "      <th>temp</th>\n",
       "      <th>rain</th>\n",
       "      <th>location</th>\n",
       "    </tr>\n",
       "  </thead>\n",
       "  <tbody>\n",
       "    <tr>\n",
       "      <th>5</th>\n",
       "      <td>19.810369</td>\n",
       "      <td>56.694291</td>\n",
       "      <td>Mumbai</td>\n",
       "    </tr>\n",
       "    <tr>\n",
       "      <th>6</th>\n",
       "      <td>32.821571</td>\n",
       "      <td>52.790612</td>\n",
       "      <td>Mumbai</td>\n",
       "    </tr>\n",
       "    <tr>\n",
       "      <th>7</th>\n",
       "      <td>28.140341</td>\n",
       "      <td>177.593106</td>\n",
       "      <td>Mumbai</td>\n",
       "    </tr>\n",
       "    <tr>\n",
       "      <th>8</th>\n",
       "      <td>43.415288</td>\n",
       "      <td>93.843945</td>\n",
       "      <td>Mumbai</td>\n",
       "    </tr>\n",
       "    <tr>\n",
       "      <th>9</th>\n",
       "      <td>41.037429</td>\n",
       "      <td>135.798831</td>\n",
       "      <td>Mumbai</td>\n",
       "    </tr>\n",
       "  </tbody>\n",
       "</table>\n",
       "</div>"
      ],
      "text/plain": [
       "        temp        rain location\n",
       "5  19.810369   56.694291   Mumbai\n",
       "6  32.821571   52.790612   Mumbai\n",
       "7  28.140341  177.593106   Mumbai\n",
       "8  43.415288   93.843945   Mumbai\n",
       "9  41.037429  135.798831   Mumbai"
      ]
     },
     "execution_count": 65,
     "metadata": {},
     "output_type": "execute_result"
    }
   ],
   "source": [
    "df.loc[df.location.str.contains('umb')]"
   ]
  },
  {
   "cell_type": "code",
   "execution_count": 66,
   "metadata": {},
   "outputs": [
    {
     "name": "stdout",
     "output_type": "stream",
     "text": [
      "                temp        rain\n",
      "location                        \n",
      "Hyderabad  31.043767  139.955551\n",
      "Mumbai     33.045000  103.344157\n"
     ]
    }
   ],
   "source": [
    "regions = df.groupby('location')\n",
    "print(regions.mean())"
   ]
  },
  {
   "cell_type": "code",
   "execution_count": null,
   "metadata": {},
   "outputs": [],
   "source": [
    "Filter the rows from df_A, whose Student_height > 160.0 and Student_weight < 80.0,\n",
    "and capture them in another dataframe df_A_filter1.\n",
    "\n",
    "Print the dataframe df_A_filter1."
   ]
  },
  {
   "cell_type": "code",
   "execution_count": 68,
   "metadata": {},
   "outputs": [
    {
     "name": "stdout",
     "output_type": "stream",
     "text": [
      "    Student_height  Student_weight\n",
      "s3           167.6            76.8\n",
      "s5           161.4            78.9\n"
     ]
    }
   ],
   "source": [
    "import pandas as pd\n",
    "heights_A = pd.Series([176.2, 158.4, 167.6, 156.2, 161.4], index=['s1', 's2', 's3', 's4', 's5'])\n",
    "weights_A = pd.Series([85.1, 90.2, 76.8, 80.4, 78.9], index=['s1', 's2', 's3', 's4', 's5'])\n",
    "df_A = pd.DataFrame()\n",
    "df_A['Student_height'] = heights_A\n",
    "df_A['Student_weight'] = weights_A\n",
    "df_A_filter1 = df_A[(df_A['Student_height'] > 160.0) & (df_A['Student_weight'] < 80.0)]\n",
    "print(df_A_filter1)"
   ]
  },
  {
   "cell_type": "code",
   "execution_count": null,
   "metadata": {},
   "outputs": [],
   "source": [
    "Filter the rows from df_A, whose index values end with 5, and capture them in another dataframe df_A_filter2.\n",
    "\n",
    "Print the dataframe df_A_filter2."
   ]
  },
  {
   "cell_type": "code",
   "execution_count": 72,
   "metadata": {},
   "outputs": [
    {
     "name": "stdout",
     "output_type": "stream",
     "text": [
      "    Student_height  Student_weight\n",
      "s5           161.4            78.9\n"
     ]
    }
   ],
   "source": [
    "df_A_filter2 = [str(i).endswith('5') for i in df_A.index]\n",
    "print(df_A[df_A_filter2])"
   ]
  },
  {
   "cell_type": "code",
   "execution_count": null,
   "metadata": {},
   "outputs": [],
   "source": [
    "Create a new column Gender in the dataframe df_A using the command: df_A['Gender'] = ['M', 'F', 'M', 'M', 'F']\n",
    "Group df_A based on Gender, and capture the result in df_groups.\n",
    "Print the mean height and weight of each group. \n",
    "Note: Use the groupby method to group df_A, and then call the mean method on grouped data df_groups."
   ]
  },
  {
   "cell_type": "code",
   "execution_count": 74,
   "metadata": {},
   "outputs": [
    {
     "data": {
      "text/html": [
       "<div>\n",
       "<style scoped>\n",
       "    .dataframe tbody tr th:only-of-type {\n",
       "        vertical-align: middle;\n",
       "    }\n",
       "\n",
       "    .dataframe tbody tr th {\n",
       "        vertical-align: top;\n",
       "    }\n",
       "\n",
       "    .dataframe thead th {\n",
       "        text-align: right;\n",
       "    }\n",
       "</style>\n",
       "<table border=\"1\" class=\"dataframe\">\n",
       "  <thead>\n",
       "    <tr style=\"text-align: right;\">\n",
       "      <th></th>\n",
       "      <th>Student_height</th>\n",
       "      <th>Student_weight</th>\n",
       "      <th>Gender</th>\n",
       "    </tr>\n",
       "  </thead>\n",
       "  <tbody>\n",
       "    <tr>\n",
       "      <th>s1</th>\n",
       "      <td>176.2</td>\n",
       "      <td>85.1</td>\n",
       "      <td>M</td>\n",
       "    </tr>\n",
       "    <tr>\n",
       "      <th>s2</th>\n",
       "      <td>158.4</td>\n",
       "      <td>90.2</td>\n",
       "      <td>F</td>\n",
       "    </tr>\n",
       "    <tr>\n",
       "      <th>s3</th>\n",
       "      <td>167.6</td>\n",
       "      <td>76.8</td>\n",
       "      <td>M</td>\n",
       "    </tr>\n",
       "    <tr>\n",
       "      <th>s4</th>\n",
       "      <td>156.2</td>\n",
       "      <td>80.4</td>\n",
       "      <td>M</td>\n",
       "    </tr>\n",
       "    <tr>\n",
       "      <th>s5</th>\n",
       "      <td>161.4</td>\n",
       "      <td>78.9</td>\n",
       "      <td>F</td>\n",
       "    </tr>\n",
       "  </tbody>\n",
       "</table>\n",
       "</div>"
      ],
      "text/plain": [
       "    Student_height  Student_weight Gender\n",
       "s1           176.2            85.1      M\n",
       "s2           158.4            90.2      F\n",
       "s3           167.6            76.8      M\n",
       "s4           156.2            80.4      M\n",
       "s5           161.4            78.9      F"
      ]
     },
     "execution_count": 74,
     "metadata": {},
     "output_type": "execute_result"
    }
   ],
   "source": [
    "df_A['Gender'] = ['M', 'F', 'M', 'M', 'F']\n",
    "df_groups= df_A.groupby('Gender')\n",
    "print(df_groups.mean())"
   ]
  },
  {
   "cell_type": "code",
   "execution_count": 82,
   "metadata": {},
   "outputs": [
    {
     "name": "stdout",
     "output_type": "stream",
     "text": [
      "        Student_height  Student_weight\n",
      "Gender                                \n",
      "F           159.900000       84.550000\n",
      "M           166.666667       80.766667\n"
     ]
    }
   ],
   "source": []
  },
  {
   "cell_type": "code",
   "execution_count": 94,
   "metadata": {},
   "outputs": [
    {
     "name": "stdout",
     "output_type": "stream",
     "text": [
      "(2,     Student_height  Student_weight Gender\n",
      "s1           176.2            85.1      M\n",
      "s2           158.4            90.2      F\n",
      "s3           167.6            76.8      M\n",
      "s4           156.2            80.4      M\n",
      "s5           161.4            78.9      F)\n"
     ]
    },
    {
     "data": {
      "text/plain": [
       "1"
      ]
     },
     "execution_count": 94,
     "metadata": {},
     "output_type": "execute_result"
    }
   ],
   "source": [
    "g = df_A.groupby(df_A.index.str.len())\n",
    "for i in g:\n",
    "    print(i)\n",
    "len(g)"
   ]
  },
  {
   "cell_type": "code",
   "execution_count": 92,
   "metadata": {},
   "outputs": [
    {
     "data": {
      "text/html": [
       "<div>\n",
       "<style scoped>\n",
       "    .dataframe tbody tr th:only-of-type {\n",
       "        vertical-align: middle;\n",
       "    }\n",
       "\n",
       "    .dataframe tbody tr th {\n",
       "        vertical-align: top;\n",
       "    }\n",
       "\n",
       "    .dataframe thead th {\n",
       "        text-align: right;\n",
       "    }\n",
       "</style>\n",
       "<table border=\"1\" class=\"dataframe\">\n",
       "  <thead>\n",
       "    <tr style=\"text-align: right;\">\n",
       "      <th></th>\n",
       "      <th>Student_height</th>\n",
       "      <th>Student_weight</th>\n",
       "    </tr>\n",
       "  </thead>\n",
       "  <tbody>\n",
       "    <tr>\n",
       "      <th>2</th>\n",
       "      <td>5.0</td>\n",
       "      <td>411.4</td>\n",
       "    </tr>\n",
       "  </tbody>\n",
       "</table>\n",
       "</div>"
      ],
      "text/plain": [
       "   Student_height  Student_weight\n",
       "2             5.0           411.4"
      ]
     },
     "execution_count": 92,
     "metadata": {},
     "output_type": "execute_result"
    }
   ],
   "source": [
    "g.aggregate({'Student_height':len, 'Student_weight':sum})"
   ]
  },
  {
   "cell_type": "code",
   "execution_count": 104,
   "metadata": {},
   "outputs": [
    {
     "data": {
      "text/html": [
       "<div>\n",
       "<style scoped>\n",
       "    .dataframe tbody tr th:only-of-type {\n",
       "        vertical-align: middle;\n",
       "    }\n",
       "\n",
       "    .dataframe tbody tr th {\n",
       "        vertical-align: top;\n",
       "    }\n",
       "\n",
       "    .dataframe thead th {\n",
       "        text-align: right;\n",
       "    }\n",
       "</style>\n",
       "<table border=\"1\" class=\"dataframe\">\n",
       "  <thead>\n",
       "    <tr style=\"text-align: right;\">\n",
       "      <th></th>\n",
       "      <th>Student_height</th>\n",
       "      <th>Student_weight</th>\n",
       "      <th>Gender</th>\n",
       "    </tr>\n",
       "  </thead>\n",
       "  <tbody>\n",
       "    <tr>\n",
       "      <th>s1</th>\n",
       "      <td>176.2</td>\n",
       "      <td>85.1</td>\n",
       "      <td>M</td>\n",
       "    </tr>\n",
       "    <tr>\n",
       "      <th>s2</th>\n",
       "      <td>158.4</td>\n",
       "      <td>90.2</td>\n",
       "      <td>F</td>\n",
       "    </tr>\n",
       "    <tr>\n",
       "      <th>s3</th>\n",
       "      <td>167.6</td>\n",
       "      <td>76.8</td>\n",
       "      <td>M</td>\n",
       "    </tr>\n",
       "    <tr>\n",
       "      <th>s4</th>\n",
       "      <td>156.2</td>\n",
       "      <td>80.4</td>\n",
       "      <td>M</td>\n",
       "    </tr>\n",
       "    <tr>\n",
       "      <th>s5</th>\n",
       "      <td>161.4</td>\n",
       "      <td>78.9</td>\n",
       "      <td>F</td>\n",
       "    </tr>\n",
       "  </tbody>\n",
       "</table>\n",
       "</div>"
      ],
      "text/plain": [
       "    Student_height  Student_weight Gender\n",
       "s1           176.2            85.1      M\n",
       "s2           158.4            90.2      F\n",
       "s3           167.6            76.8      M\n",
       "s4           156.2            80.4      M\n",
       "s5           161.4            78.9      F"
      ]
     },
     "execution_count": 104,
     "metadata": {},
     "output_type": "execute_result"
    }
   ],
   "source": [
    "g.filter(lambda x: len(x) > 1)"
   ]
  },
  {
   "cell_type": "code",
   "execution_count": 106,
   "metadata": {},
   "outputs": [
    {
     "data": {
      "text/plain": [
       "{2: Index(['s1', 's2', 's3', 's4', 's5'], dtype='object')}"
      ]
     },
     "execution_count": 106,
     "metadata": {},
     "output_type": "execute_result"
    }
   ],
   "source": [
    "g.groups"
   ]
  },
  {
   "cell_type": "code",
   "execution_count": null,
   "metadata": {},
   "outputs": [],
   "source": []
  }
 ],
 "metadata": {
  "kernelspec": {
   "display_name": "Python 3",
   "language": "python",
   "name": "python3"
  },
  "language_info": {
   "codemirror_mode": {
    "name": "ipython",
    "version": 3
   },
   "file_extension": ".py",
   "mimetype": "text/x-python",
   "name": "python",
   "nbconvert_exporter": "python",
   "pygments_lexer": "ipython3",
   "version": "3.8.3"
  }
 },
 "nbformat": 4,
 "nbformat_minor": 4
}
