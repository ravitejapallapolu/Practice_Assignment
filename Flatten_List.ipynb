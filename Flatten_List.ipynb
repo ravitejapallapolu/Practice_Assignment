{
 "cells": [
  {
   "cell_type": "markdown",
   "metadata": {},
   "source": [
    "# Flatten list of list"
   ]
  },
  {
   "cell_type": "code",
   "execution_count": 105,
   "metadata": {},
   "outputs": [
    {
     "name": "stdout",
     "output_type": "stream",
     "text": [
      "[1, 2, 3, [11, 12, 13], 1, 4, 9, 10, 11]\n",
      "[1, 2, 3, 11, 12, 13, 1, 4, 9, 10, 11]\n"
     ]
    }
   ],
   "source": [
    "a = [1, 4, 9]\n",
    "li =[1,2,3,[11,12,13]]+a\n",
    "li.extend([10,11])\n",
    "#b=a.extend(li)\n",
    "a.reverse\n",
    "print(li)\n",
    "val = []\n",
    "for i in li:\n",
    "    #print(type(i))\n",
    "    if type(i) is not int :\n",
    "        for a in i:\n",
    "            #print(type(i))\n",
    "            val.append(a)\n",
    "    else :\n",
    "        val.append(i)\n",
    "\n",
    "    \n",
    "print(val)"
   ]
  }
 ],
 "metadata": {
  "kernelspec": {
   "display_name": "Python 3",
   "language": "python",
   "name": "python3"
  },
  "language_info": {
   "codemirror_mode": {
    "name": "ipython",
    "version": 3
   },
   "file_extension": ".py",
   "mimetype": "text/x-python",
   "name": "python",
   "nbconvert_exporter": "python",
   "pygments_lexer": "ipython3",
   "version": "3.8.3"
  }
 },
 "nbformat": 4,
 "nbformat_minor": 4
}
